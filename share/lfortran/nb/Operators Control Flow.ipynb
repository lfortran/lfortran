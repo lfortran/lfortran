{
 "cells": [
  {
   "cell_type": "markdown",
   "id": "ef49cdd6",
   "metadata": {},
   "source": [
    "One of the powerful advantages of computer algorithms, compared to simple mathematical formulae,\n",
    "comes in the form of program _branching_ whereby the program can decide which instructions to\n",
    "execute next based on a logical condition.\n",
    "\n",
    "There are two main forms of controlling program flow:\n",
    "\n",
    "- _Conditional_ (if): choose program path based on a boolean (true or false) value\n",
    "\n",
    "- _Loop_: repeat a portion of code multiple times\n",
    "\n",
    "\n",
    "\n",
    "## Logical operators\n",
    "Before we use a conditional branching operator, we need to be able to form\n",
    "a logical expression.\n",
    "\n",
    "To form a logical expression, the following set of relational operators are available:\n",
    "\n",
    "| Operator &nbsp;  | Alternative &nbsp;    | Description                                                     |\n",
    "|:----------------:|:---------------------:|-----------------------------------------------------------------|\n",
    "| `==`             | `.eq.`                | Tests for equality of two operands                              |\n",
    "| `/=`             | `.ne.`                | Test for inequality of two operands                             |\n",
    "| `> `             | `.gt.`                | Tests if left operand is strictly greater than right operand    |\n",
    "| `< `             | `.lt.`                | Tests if left operand is strictly less than right operand       |\n",
    "| `>=`             | `.ge.`                | Tests if left operand is greater than or equal to right operand |\n",
    "| `<=`             | `.le.`                | Tests if left operand is less than or equal to right operand    |\n",
    "\n",
    "<br>\n",
    "\n",
    "as well as the following logical operators:\n",
    "\n",
    "| Operator &nbsp;       | Description                                                          |\n",
    "|:---------------------:|----------------------------------------------------------------------|\n",
    "| `.and.`               | TRUE if both left and right operands are TRUE                        |\n",
    "| `.or.`                | TRUE if either left or right or both operands are TRUE               |\n",
    "| `.not.`               | TRUE if right operand is FALSE                                       |\n",
    "| `.eqv.`               | TRUE if left operand has same logical value as right operand         |\n",
    "| `.neqv.`              | TRUE if left operand has the opposite logical value as right operand |\n",
    "\n",
    "<br>\n",
    "\n",
    "\n",
    "## Conditional construct (`if`)\n",
    "\n",
    "In the following examples, a conditional `if` construct is used to print out a\n",
    "message to describe the nature of the `angle` variable:\n",
    "\n",
    "__Example:__ single branch `if`"
   ]
  },
  {
   "cell_type": "code",
   "execution_count": null,
   "id": "f7093e7b",
   "metadata": {},
   "outputs": [],
   "source": [
    "real :: angle\n",
    "angle = 40.0\n",
    "if (angle < 90.0) then\n",
    "  print *, 'Angle is acute'\n",
    "end if"
   ]
  },
  {
   "cell_type": "markdown",
   "id": "9bc220a8",
   "metadata": {},
   "source": [
    "In this first example, the code within the `if` construct is _only executed if_ the\n",
    "test expression (`angle < 90.0`) is true.\n",
    "\n",
    "{% include tip.html content=\"It is good practice to indent code within constructs such as `if` and `do`\n",
    "to make code more readable.\" %}\n",
    "\n",
    "We can add an alternative branch to the construct using the `else` keyword:\n",
    "\n",
    "__Example:__ two-branch `if`-`else`"
   ]
  },
  {
   "cell_type": "markdown",
   "id": "f32369ae",
   "metadata": {},
   "source": [
    "if (angle < 90.0) then\n",
    "  print *, 'Angle is acute'\n",
    "else\n",
    "  print *, 'Angle is obtuse'\n",
    "end if"
   ]
  },
  {
   "cell_type": "markdown",
   "id": "5f77dd83",
   "metadata": {},
   "source": [
    "Now there are two _branches_ in the `if` construct, but _only one branch is executed_ depending\n",
    "on the logical expression following the `if` keyword.\n",
    "\n",
    "We can actually add any number of branches using `else if` to specify more conditions:\n",
    "\n",
    "__Example:__ multi-branch  `if`-`else if`-`else`"
   ]
  },
  {
   "cell_type": "markdown",
   "id": "d64e82ac",
   "metadata": {},
   "source": [
    "if (angle < 90.0) then\n",
    "  print *, 'Angle is acute'\n",
    "else if (angle < 180.0) then\n",
    "  print *, 'Angle is obtuse'\n",
    "else\n",
    "  print *, 'Angle is reflex'\n",
    "end if"
   ]
  },
  {
   "cell_type": "markdown",
   "id": "0098c026",
   "metadata": {},
   "source": [
    "When multiple conditional expressions are used, each conditional expression is tested only if none of the previous\n",
    "expressions have evaluated to true.\n",
    "\n",
    "## Loop constructs (`do`)\n",
    "\n",
    "In the following example, a `do` loop construct is used to print out the numbers in\n",
    "a sequence.\n",
    "The `do` loop has an integer _counter_ variable which is used to track which iteration of the loop\n",
    "is currently executing. In this example we use a common name for this counter variable: `i`.\n",
    "\n",
    "When we define the start of the `do` loop, we use our counter variable name followed by an equals (`=`) sign\n",
    "to specify the start value and final value of our counting variable.\n",
    "\n",
    "__Example:__ `do` loop"
   ]
  },
  {
   "cell_type": "markdown",
   "id": "58ec6fd7",
   "metadata": {},
   "source": [
    "integer :: i\n",
    "\n",
    "do i = 1, 10\n",
    "  print *, i\n",
    "end do"
   ]
  },
  {
   "cell_type": "markdown",
   "id": "6fbbfa95",
   "metadata": {},
   "source": [
    "__Example:__ `do` loop with skip"
   ]
  },
  {
   "cell_type": "markdown",
   "id": "2bdeb053",
   "metadata": {},
   "source": [
    "!integer :: i\n",
    "\n",
    "do i = 1, 10, 2\n",
    "  print *, i  ! Print odd numbers\n",
    "end do"
   ]
  },
  {
   "cell_type": "markdown",
   "id": "bfe4f4f9",
   "metadata": {},
   "source": [
    "### Conditional loop (`do while`)\n",
    "\n",
    "A condition may be added to a `do` loop with the `while` keyword. The loop will be executed while the condition given\n",
    "in `while()` evaluates to `.true.`.\n",
    "\n",
    "__Example:__ `do while()` loop"
   ]
  },
  {
   "cell_type": "markdown",
   "id": "b5e483a7",
   "metadata": {},
   "source": [
    "!integer :: i\n",
    "\n",
    "i = 1\n",
    "do while (i < 11)\n",
    "  print *, i\n",
    "  i = i + 1\n",
    "end do\n",
    "! Here i = 11"
   ]
  },
  {
   "cell_type": "markdown",
   "id": "16b0bf17",
   "metadata": {},
   "source": [
    "### Loop control statements (`exit` and `cycle`)\n",
    "\n",
    "Most often than not, loops need to be stopped if a condition is met. Fortran provides two executable statements to deal\n",
    "with such cases.\n",
    "\n",
    "`exit` is used to quit the loop prematurely. It is usually enclosed inside an `if`.\n",
    "\n",
    "__Example:__ loop with `exit`\n"
   ]
  },
  {
   "cell_type": "markdown",
   "id": "ef39c385",
   "metadata": {},
   "source": [
    "!integer :: i\n",
    "\n",
    "do i = 1, 100\n",
    "  if (i > 10) then\n",
    "    exit  ! Stop printing numbers\n",
    "  end if\n",
    "  print *, i\n",
    "end do\n",
    "! Here i = 11"
   ]
  },
  {
   "cell_type": "markdown",
   "id": "a8fc8739",
   "metadata": {},
   "source": [
    "On the other hand, `cycle` skips whatever is left of the loop and goes into the next cycle.\n",
    "\n",
    "__Example:__ loop with `cycle`\n"
   ]
  },
  {
   "cell_type": "markdown",
   "id": "081a2e77",
   "metadata": {},
   "source": [
    "!integer :: i\n",
    "\n",
    "do i = 1, 10\n",
    "  if (modulo(i, 2) == 0) then\n",
    "      cycle  ! Don't print even numbers\n",
    "  end if\n",
    "  print *, i\n",
    "end do"
   ]
  },
  {
   "cell_type": "markdown",
   "id": "ae2cc954",
   "metadata": {},
   "source": [
    "{% include note.html content=\"When used within nested loops, the `cycle` and `exit` statements operate on the innermost loop.\" %}\n",
    "\n",
    "### Nested loop control: tags\n",
    "\n",
    "A recurring case in any programming language is the use of nested loops. Nested loops refer to loops that exist within another loop. Fortran allows the programmer to _tag_ or _name_ each loop. If loops are tagged, there are two potential benefits:\n",
    "1. The readability of the code may be improved (when the naming is meaningful).\n",
    "2. `exit` and `cycle` may be used with tags, which allows for very fine-grained control of the loops.\n",
    "\n",
    "__Example:__ tagged nested loops\n"
   ]
  },
  {
   "cell_type": "markdown",
   "id": "c1194491",
   "metadata": {},
   "source": [
    "integer :: i, j\n",
    "\n",
    "outer_loop: do i = 1, 10\n",
    "  inner_loop: do j = 1, 10\n",
    "    if ((j + i) > 10) then  ! Print only pairs of i and j that add up to 10\n",
    "      cycle outer_loop  ! Go to the next iteration of the outer loop\n",
    "    end if\n",
    "    print *, 'I=', i, ' J=', j, ' Sum=', j + i\n",
    "  end do inner_loop\n",
    "end do outer_loop"
   ]
  },
  {
   "cell_type": "markdown",
   "id": "7791eebf",
   "metadata": {},
   "source": [
    "### Parallelizable loop (`do concurrent`)\n",
    "\n",
    "The `do concurrent` loop is used to explicitly specify that the _inside of the loop has no interdependencies_; this informs the compiler that it may use parallelization/_SIMD_ to speed up execution of the loop and conveys programmer intention more clearly. More specifically, this means\n",
    "that any given loop iteration does not depend on the prior execution of other loop iterations. It is also necessary that any state changes that may occur must only happen within each `do concurrent` loop.\n",
    "These requirements place restrictions on what can be placed within the loop body.\n",
    "\n",
    "\n",
    "{% capture note %}\n",
    "Simply replacing a `do` loop with a `do concurrent` does not guarantee parallel execution.\n",
    "The explanation given above does not detail all the requirements that need to be met in order to write a correct `do concurrent` loop.\n",
    "Compilers are also free to do as they see fit, meaning they may not optimize the loop (e.g., a small number of iterations doing a simple calculation, like the below example).\n",
    "In general, compiler flags are required to activate possible parallelization for `do concurrent` loops.\n",
    "{% endcapture %}\n",
    "{% include important.html content=note %}\n",
    "\n",
    "__Example:__ `do concurrent()` loop\n"
   ]
  },
  {
   "cell_type": "markdown",
   "id": "0a8cba44",
   "metadata": {},
   "source": [
    "real, parameter :: pi = 3.14159265\n",
    "integer, parameter :: n = 10\n",
    "real :: result_sin(n)\n",
    "integer :: i\n",
    "\n",
    "!do concurrent (i = 1:n)  ! Careful, the syntax is slightly different\n",
    "!  result_sin(i) = sin(i * pi/4.)\n",
    "!end do\n",
    "\n",
    "!print *, result_sin"
   ]
  },
  {
   "cell_type": "markdown",
   "id": "00950235",
   "metadata": {},
   "source": []
  }
 ],
 "metadata": {
  "kernelspec": {
   "display_name": "Fortran",
   "language": "fortran",
   "name": "fortran"
  },
  "language_info": {
   "file_extension": ".f90",
   "mimetype": "text/x-fortran",
   "name": "fortran",
   "version": "2018"
  }
 },
 "nbformat": 4,
 "nbformat_minor": 5
}
